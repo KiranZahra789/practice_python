{
 "cells": [
  {
   "cell_type": "code",
   "execution_count": 3,
   "metadata": {},
   "outputs": [
    {
     "name": "stdout",
     "output_type": "stream",
     "text": [
      "the total sum is: 30\n"
     ]
    }
   ],
   "source": [
    "num1 = int(input(\"enter first number\"))\n",
    "num2 = int(input(\"enter 2nd number\"))\n",
    "sum = num1 + num2\n",
    "print(\"the total sum is:\" , sum)"
   ]
  },
  {
   "cell_type": "code",
   "execution_count": 4,
   "metadata": {},
   "outputs": [
    {
     "name": "stdout",
     "output_type": "stream",
     "text": [
      "what is your favourite animal?\n",
      "My favourite anumal is also lion\n"
     ]
    }
   ],
   "source": [
    "print(\"what is your favourite animal?\")\n",
    "favourite_animal = input()\n",
    "print(\"My favourite anumal is also\" , favourite_animal)"
   ]
  },
  {
   "cell_type": "code",
   "execution_count": 7,
   "metadata": {},
   "outputs": [
    {
     "name": "stdout",
     "output_type": "stream",
     "text": [
      "Temperature in fahrenheit\n",
      "the temperature in celcius is: 13.333333333333334\n"
     ]
    }
   ],
   "source": [
    "print(\"Temperature in fahrenheit\")\n",
    "fahrenheit = float(input())\n",
    "celcius = (fahrenheit - 32) * 5.0/9.0\n",
    "print(\"the temperature in celcius is:\" , celcius)\n"
   ]
  },
  {
   "cell_type": "code",
   "execution_count": null,
   "metadata": {},
   "outputs": [],
   "source": []
  }
 ],
 "metadata": {
  "kernelspec": {
   "display_name": "Python 3",
   "language": "python",
   "name": "python3"
  },
  "language_info": {
   "codemirror_mode": {
    "name": "ipython",
    "version": 3
   },
   "file_extension": ".py",
   "mimetype": "text/x-python",
   "name": "python",
   "nbconvert_exporter": "python",
   "pygments_lexer": "ipython3",
   "version": "3.12.4"
  }
 },
 "nbformat": 4,
 "nbformat_minor": 2
}
