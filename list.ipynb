{
 "cells": [
  {
   "cell_type": "code",
   "execution_count": 9,
   "metadata": {},
   "outputs": [
    {
     "name": "stdout",
     "output_type": "stream",
     "text": [
      "['zainab', 'rubab', 'ayesha', 'gulshan', 'sadaf']\n",
      "hello,['zainab', 'rubab', 'ayesha', 'gulshan', 'sadaf'][0]! hope u are having a great day\n"
     ]
    }
   ],
   "source": [
    "names = ['zainab' , 'rubab' , 'ayesha' , 'gulshan' , 'sadaf']\n",
    "message = ['hell0! hope u are having a great day']\n"
   ]
  },
  {
   "cell_type": "code",
   "execution_count": 5,
   "metadata": {},
   "outputs": [
    {
     "name": "stdout",
     "output_type": "stream",
     "text": [
      "Hello, zainab! Hope you are having a great day!\n",
      "Hello, rubab! Hope you are having a great day!\n",
      "Hello, ayesha! Hope you are having a great day!\n",
      "Hello, gulshan! Hope you are having a great day!\n",
      "Hello, sadaf! Hope you are having a great day!\n"
     ]
    }
   ],
   "source": [
    "for name in names: print(f\"Hello, {name}! Hope you are having a great day!\")"
   ]
  },
  {
   "cell_type": "code",
   "execution_count": 6,
   "metadata": {},
   "outputs": [
    {
     "name": "stdout",
     "output_type": "stream",
     "text": [
      "I would like to own a honda motorcycle\n",
      "I would like to own a BMW\n",
      "I would like to own a Toyota car\n",
      "I would like to own a Yamaha bike\n"
     ]
    }
   ],
   "source": [
    "vehicles = ['honda motorcycle' , \"BMW\" , \"Toyota car\" , \"Yamaha bike\" ]\n",
    "for vehicle in vehicles : print(f\"I would like to own a {vehicle}\")"
   ]
  },
  {
   "cell_type": "code",
   "execution_count": 9,
   "metadata": {},
   "outputs": [
    {
     "name": "stdout",
     "output_type": "stream",
     "text": [
      "Dear maria , I would be honored to have you as a guest for dinner . \n",
      "Dear tanveer , I would be honored to have you as a guest for dinner . \n",
      "Dear ali , I would be honored to have you as a guest for dinner . \n",
      "Dear hyder , I would be honored to have you as a guest for dinner . \n",
      "Dear batool , I would be honored to have you as a guest for dinner . \n"
     ]
    }
   ],
   "source": [
    "  guests= ['maria' , 'tanveer' , 'ali' , 'hyder' , 'batool']\n",
    "for guest in guests: print(f\"Dear {guest} , I would be honored to have you as a guest for dinner . )    "
   ]
  },
  {
   "cell_type": "code",
   "execution_count": 10,
   "metadata": {},
   "outputs": [
    {
     "name": "stdout",
     "output_type": "stream",
     "text": [
      "\n",
      "Unfortunately ,  maria can't make it to the  dinner\n"
     ]
    }
   ],
   "source": [
    "guest_cant_come =' maria'\n",
    "print(f\"\\nUnfortunately , {guest_cant_come} can't make it to the  dinner.\")"
   ]
  },
  {
   "cell_type": "code",
   "execution_count": 3,
   "metadata": {},
   "outputs": [
    {
     "name": "stdout",
     "output_type": "stream",
     "text": [
      "dear amna, I would be honoured to have you as a guest for a dinner\n",
      "dear tanveer, I would be honoured to have you as a guest for a dinner\n",
      "dear ali, I would be honoured to have you as a guest for a dinner\n",
      "dear hyder, I would be honoured to have you as a guest for a dinner\n",
      "dear batool, I would be honoured to have you as a guest for a dinner\n"
     ]
    }
   ],
   "source": [
    " guests = ['maria' , 'tanveer' , 'ali' , 'hyder' , 'batool']\n",
    "new_guest = 'amna'\n",
    "guests[guests.index('maria')] = new_guest\n",
    "for guest in guests: print(f\"dear {guest}, I would be honoured to have you as a guest for a dinner\")"
   ]
  },
  {
   "cell_type": "code",
   "execution_count": 6,
   "metadata": {},
   "outputs": [
    {
     "name": "stdout",
     "output_type": "stream",
     "text": [
      "Dear maria , I would be honoured to have you as a guest for dinner .\n",
      "Dear  tanveer , I would be honoured to have you as a guest for dinner .\n",
      "Dear ali , I would be honoured to have you as a guest for dinner .\n",
      "Dear hyder , I would be honoured to have you as a guest for dinner .\n",
      "Dear batool , I would be honoured to have you as a guest for dinner .\n",
      "\n",
      "Good news! I found a bigger table, so I inviting more people to dinner . \n"
     ]
    }
   ],
   "source": [
    "guests = ['maria' ,' tanveer', 'ali' , 'hyder' , 'batool']\n",
    "for guest in guests: print(f\"Dear {guest} , I would be honoured to have you as a guest for dinner .\")\n",
    "print(\"\\nGood news! I found a bigger table, so I inviting more people to dinner . \")\n",
    "\n"
   ]
  },
  {
   "cell_type": "code",
   "execution_count": 2,
   "metadata": {},
   "outputs": [
    {
     "name": "stdout",
     "output_type": "stream",
     "text": [
      "Dear zainab, I would be honoured to have you as a guest for dinner.\n",
      "Dear maria, I would be honoured to have you as a guest for dinner.\n",
      "Dear  tanveer, I would be honoured to have you as a guest for dinner.\n",
      "Dear ahmed, I would be honoured to have you as a guest for dinner.\n",
      "Dear ali, I would be honoured to have you as a guest for dinner.\n",
      "Dear hyder, I would be honoured to have you as a guest for dinner.\n",
      "Dear batool, I would be honoured to have you as a guest for dinner.\n",
      "Dear amna, I would be honoured to have you as a guest for dinner.\n"
     ]
    }
   ],
   "source": [
    "guests = ['maria' ,' tanveer', 'ali' , 'hyder' , 'batool']\n",
    "guests.insert(0, 'zainab')\n",
    "guests.insert(len(guests)//2 , 'ahmed')\n",
    "guests.append('amna')\n",
    "for guest in guests: print(f\"Dear {guest}, I would be honoured to have you as a guest for dinner.\")\n",
    "\n"
   ]
  },
  {
   "cell_type": "code",
   "execution_count": 3,
   "metadata": {},
   "outputs": [
    {
     "name": "stdout",
     "output_type": "stream",
     "text": [
      "Sorry , amna , I cant invite u to dinner\n",
      "Sorry , batool , I cant invite u to dinner\n",
      "Sorry , hyder , I cant invite u to dinner\n",
      "Sorry , ali , I cant invite u to dinner\n",
      "Sorry , ahmed , I cant invite u to dinner\n",
      "Sorry ,  tanveer , I cant invite u to dinner\n"
     ]
    }
   ],
   "source": [
    "\n",
    "while len(guests) > 2:\n",
    "    remove_guest = guests.pop()\n",
    "    print(f\"Sorry , {remove_guest} , I cant invite u to dinner\")"
   ]
  },
  {
   "cell_type": "code",
   "execution_count": 4,
   "metadata": {},
   "outputs": [
    {
     "name": "stdout",
     "output_type": "stream",
     "text": [
      "Dear zainab , you are still invited to dinner . \n",
      "Dear maria , you are still invited to dinner . \n"
     ]
    }
   ],
   "source": [
    "for guest in guests :\n",
    "    print(f\"Dear {guest} , you are still invited to dinner . \")"
   ]
  },
  {
   "cell_type": "code",
   "execution_count": 5,
   "metadata": {},
   "outputs": [
    {
     "name": "stdout",
     "output_type": "stream",
     "text": [
      "\n",
      "Final guest list: []\n"
     ]
    }
   ],
   "source": [
    "del guests[:]\n",
    "print(\"\\nFinal guest list:\", guests)"
   ]
  },
  {
   "cell_type": "code",
   "execution_count": 17,
   "metadata": {},
   "outputs": [
    {
     "name": "stdout",
     "output_type": "stream",
     "text": [
      "original list :\n",
      "['dubai', 'london', 'itly', 'france', 'america']\n"
     ]
    }
   ],
   "source": [
    "visited_places = ['dubai' , 'london', 'itly' , 'france', 'america']\n",
    "print(\"original list :\")\n",
    "print(visited_places)"
   ]
  },
  {
   "cell_type": "code",
   "execution_count": 16,
   "metadata": {},
   "outputs": [
    {
     "name": "stdout",
     "output_type": "stream",
     "text": [
      "\n",
      "original list after reverse sorted() :\n",
      "['dubai', 'london', 'itly', 'france', 'america']\n"
     ]
    }
   ],
   "source": [
    "print(\"\\noriginal list after reverse sorted() :\")\n",
    "print(visited_places)"
   ]
  },
  {
   "cell_type": "code",
   "execution_count": 20,
   "metadata": {},
   "outputs": [
    {
     "name": "stdout",
     "output_type": "stream",
     "text": [
      "\n",
      "list in reverse-alphabetical order :\n",
      "['london', 'itly', 'france', 'dubai', 'america']\n"
     ]
    }
   ],
   "source": [
    "print(\"\\nlist in reverse-alphabetical order :\")\n",
    "print(sorted(visited_places , reverse = True))"
   ]
  },
  {
   "cell_type": "code",
   "execution_count": 21,
   "metadata": {},
   "outputs": [
    {
     "name": "stdout",
     "output_type": "stream",
     "text": [
      "\n",
      "original list after reverse sorted() :\n",
      "['dubai', 'london', 'itly', 'france', 'america']\n"
     ]
    }
   ],
   "source": [
    "print(\"\\noriginal list after reverse sorted() :\")\n",
    "print(visited_places)"
   ]
  },
  {
   "cell_type": "code",
   "execution_count": 22,
   "metadata": {},
   "outputs": [
    {
     "name": "stdout",
     "output_type": "stream",
     "text": [
      "\n",
      "list after reversing again (back to original) :\n",
      "['america', 'france', 'itly', 'london', 'dubai']\n"
     ]
    }
   ],
   "source": [
    "visited_places.reverse()\n",
    "print(\"\\nlist after reversing again (back to original) :\") \n",
    "print(visited_places)"
   ]
  },
  {
   "cell_type": "code",
   "execution_count": 23,
   "metadata": {},
   "outputs": [
    {
     "name": "stdout",
     "output_type": "stream",
     "text": [
      "\n",
      "list after sort() (alphetical order)\n",
      "['america', 'dubai', 'france', 'itly', 'london']\n"
     ]
    }
   ],
   "source": [
    "visited_places.sort()\n",
    "print(\"\\nlist after sort() (alphetical order)\")\n",
    "print(visited_places)"
   ]
  },
  {
   "cell_type": "code",
   "execution_count": 24,
   "metadata": {},
   "outputs": [
    {
     "name": "stdout",
     "output_type": "stream",
     "text": [
      "\n",
      "list after sort(reverse=True) (reverse alphabetical order):\n",
      "['london', 'itly', 'france', 'dubai', 'america']\n"
     ]
    }
   ],
   "source": [
    "visited_places.sort(reverse=True)\n",
    "print(\"\\nlist after sort(reverse=True) (reverse alphabetical order):\")\n",
    "print(visited_places)"
   ]
  },
  {
   "cell_type": "code",
   "execution_count": 25,
   "metadata": {},
   "outputs": [
    {
     "name": "stdout",
     "output_type": "stream",
     "text": [
      "after append() : ['tokyo', ' paris', 'sydney', 'lahore', 'karachi']\n"
     ]
    }
   ],
   "source": [
    "cities = ['tokyo' ,' paris', 'sydney' , 'lahore']\n",
    "cities.append('karachi')\n",
    "print(\"after append() :\" , cities)"
   ]
  },
  {
   "cell_type": "code",
   "execution_count": 26,
   "metadata": {},
   "outputs": [
    {
     "name": "stdout",
     "output_type": "stream",
     "text": [
      "after insert(): ['tokyo', ' paris', ' toronto', 'sydney', 'lahore', 'karachi']\n"
     ]
    }
   ],
   "source": [
    "cities.insert(2 ,' toronto')\n",
    "print(\"after insert():\" , cities)"
   ]
  },
  {
   "cell_type": "code",
   "execution_count": 27,
   "metadata": {},
   "outputs": [
    {
     "name": "stdout",
     "output_type": "stream",
     "text": [
      "after remove (): ['tokyo', ' paris', ' toronto', 'sydney', 'lahore']\n"
     ]
    }
   ],
   "source": [
    "cities.remove('karachi')\n",
    "print(\"after remove ():\", cities)"
   ]
  },
  {
   "cell_type": "code",
   "execution_count": 32,
   "metadata": {},
   "outputs": [
    {
     "name": "stdout",
     "output_type": "stream",
     "text": [
      "after popped () [' paris', ' toronto']\n",
      "popped city: tokyo\n"
     ]
    }
   ],
   "source": [
    "popped_city = cities.pop()\n",
    "print(\"after popped ()\" , cities)\n",
    "print(\"popped city:\" , popped_city)"
   ]
  },
  {
   "cell_type": "code",
   "execution_count": 33,
   "metadata": {},
   "outputs": [
    {
     "name": "stdout",
     "output_type": "stream",
     "text": [
      "after sort() : [' paris', ' toronto']\n"
     ]
    }
   ],
   "source": [
    "cities.sort()\n",
    "print(\"after sort() :\" , cities)"
   ]
  },
  {
   "cell_type": "code",
   "execution_count": 34,
   "metadata": {},
   "outputs": [
    {
     "name": "stdout",
     "output_type": "stream",
     "text": [
      "after reverse() : [' toronto', ' paris']\n"
     ]
    }
   ],
   "source": [
    "cities.reverse()\n",
    "print(\"after reverse() :\" , cities)"
   ]
  },
  {
   "cell_type": "code",
   "execution_count": 35,
   "metadata": {},
   "outputs": [
    {
     "name": "stdout",
     "output_type": "stream",
     "text": [
      "number of cities: 2\n"
     ]
    }
   ],
   "source": [
    "print(\"number of cities:\" , len(cities))"
   ]
  },
  {
   "cell_type": "code",
   "execution_count": 38,
   "metadata": {},
   "outputs": [
    {
     "name": "stdout",
     "output_type": "stream",
     "text": [
      "alphabetically first city:  paris\n",
      "alphabetically last city:  toronto\n"
     ]
    }
   ],
   "source": [
    "print(\"alphabetically first city:\" , min(cities))\n",
    "print(\"alphabetically last city:\" , max(cities))"
   ]
  },
  {
   "cell_type": "code",
   "execution_count": 40,
   "metadata": {},
   "outputs": [
    {
     "name": "stdout",
     "output_type": "stream",
     "text": [
      "total number 0\n"
     ]
    }
   ],
   "source": [
    "\n",
    "print(\"total number\" , cities.count('paris'))"
   ]
  },
  {
   "cell_type": "code",
   "execution_count": 46,
   "metadata": {},
   "outputs": [
    {
     "name": "stdout",
     "output_type": "stream",
     "text": [
      "after clear []\n"
     ]
    }
   ],
   "source": [
    "cities.clear()\n",
    "print(\"after clear\" , cities)"
   ]
  },
  {
   "cell_type": "code",
   "execution_count": 52,
   "metadata": {},
   "outputs": [
    {
     "ename": "IndexError",
     "evalue": "list index out of range",
     "output_type": "error",
     "traceback": [
      "\u001b[1;31m---------------------------------------------------------------------------\u001b[0m",
      "\u001b[1;31mIndexError\u001b[0m                                Traceback (most recent call last)",
      "Cell \u001b[1;32mIn[52], line 2\u001b[0m\n\u001b[0;32m      1\u001b[0m cities \u001b[38;5;241m=\u001b[39m [\u001b[38;5;124m'\u001b[39m\u001b[38;5;124mlahore\u001b[39m\u001b[38;5;124m'\u001b[39m , \u001b[38;5;124m'\u001b[39m\u001b[38;5;124mjapan\u001b[39m\u001b[38;5;124m'\u001b[39m , \u001b[38;5;124m'\u001b[39m\u001b[38;5;124mkarachi\u001b[39m\u001b[38;5;124m'\u001b[39m]\n\u001b[1;32m----> 2\u001b[0m \u001b[38;5;28mprint\u001b[39m(\u001b[43mcities\u001b[49m\u001b[43m[\u001b[49m\u001b[38;5;241;43m3\u001b[39;49m\u001b[43m]\u001b[49m)\n",
      "\u001b[1;31mIndexError\u001b[0m: list index out of range"
     ]
    }
   ],
   "source": [
    "cities = ['lahore' , 'japan' , 'karachi']\n",
    "print(cities[3])"
   ]
  }
 ],
 "metadata": {
  "kernelspec": {
   "display_name": "Python 3",
   "language": "python",
   "name": "python3"
  },
  "language_info": {
   "codemirror_mode": {
    "name": "ipython",
    "version": 3
   },
   "file_extension": ".py",
   "mimetype": "text/x-python",
   "name": "python",
   "nbconvert_exporter": "python",
   "pygments_lexer": "ipython3",
   "version": "3.12.4"
  }
 },
 "nbformat": 4,
 "nbformat_minor": 2
}
